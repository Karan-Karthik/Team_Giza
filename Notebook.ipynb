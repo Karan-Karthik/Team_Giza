{
    "metadata": {
        "kernelspec": {
            "name": "SQL",
            "display_name": "SQL",
            "language": "sql"
        },
        "language_info": {
            "name": "sql",
            "version": ""
        }
    },
    "nbformat_minor": 2,
    "nbformat": 4,
    "cells": [
        {
            "cell_type": "code",
            "source": [
                "CREATE TABLE weekly_hospital_stats (\n",
                "    hospital_pk CHAR(6),\n",
                "    collection_week TIMESTAMP,\n",
                "    all_adult_hospital_beds_7_day_avg NUMERIC,\n",
                "    all_pediatric_inpatient_beds_7_day_avg NUMERIC,\n",
                "    all_adult_hospital_inpatient_bed_occupied_7_day_avg NUMERIC,\n",
                "    all_pediatric_inpatient_bed_occupied_7_day_avg NUMERIC,\n",
                "    total_icu_beds_7_day_avg NUMERIC,\n",
                "    icu_beds_used_7_day_avg NUMERIC,\n",
                "    inpatient_beds_used_covid_7_day_avg NUMERIC,\n",
                "    staffed_icu_adult_patients_confirmed_covid_7_day_avg NUMERIC,\n",
                "    PRIMARY KEY (hospital_pk, collection_week),\n",
                "    FOREIGN KEY (hospital_pk) REFERENCES hospital(hospital_pk)\n",
                ");"
            ],
            "metadata": {
                "azdata_cell_guid": "d3b17254-a5f4-4bc5-a949-eaef6979a734",
                "language": "sql"
            },
            "outputs": [],
            "execution_count": null
        },
        {
            "cell_type": "markdown",
            "source": [
                "Design Decisions for weekly hospital stats table:\n",
                "\n",
                "- **Primary Key (`hospital_pk`, `collection_week`)**:\n",
                "    - Uses both `hospital_pk` and `collection_week` to ensure that each hospital's data for a specific week is unique.\n",
                "- **Foreign Key (`hospital_pk`)**:\n",
                "    - References the `hospital` table's primary key to link each record to a specific hospital.\n",
                "- **Data Types**:\n",
                "    - `hospital_pk` is defined as `CHAR(6)` to match with the expected hospital id length.\n",
                "    - `collection_week` is a `TIMESTAMP` to capture weekly data.\n",
                "    - Other columns use the `NUMERIC` type to accommodate average values (numeric and not integer as averages might be fractional).\n",
                "- **Columns**:\n",
                "    - Only variables relevant to weekly hospital statistics have been retained in the table to ensure it is mutually exclusive from the other tables except the identifier columns."
            ],
            "metadata": {
                "azdata_cell_guid": "a34b19ac-2465-44f2-9bf9-fc662def4225"
            },
            "attachments": {}
        }
    ]
}
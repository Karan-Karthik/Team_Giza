{
    "metadata": {
        "kernelspec": {
            "name": "SQL",
            "display_name": "SQL",
            "language": "sql"
        },
        "language_info": {
            "name": "sql",
            "version": ""
        }
    },
    "nbformat_minor": 2,
    "nbformat": 4,
    "cells": [
        {
            "cell_type": "code",
            "source": [
                "CREATE TABLE weekly_hospital_stats (\n",
                "    hospital_pk CHAR(6),\n",
                "    collection_week TIMESTAMP,\n",
                "    all_adult_hospital_beds_7_day_avg NUMERIC,\n",
                "    all_pediatric_inpatient_beds_7_day_avg NUMERIC,\n",
                "    all_adult_hospital_inpatient_bed_occupied_7_day_avg NUMERIC,\n",
                "    all_pediatric_inpatient_bed_occupied_7_day_avg NUMERIC,\n",
                "    total_icu_beds_7_day_avg NUMERIC,\n",
                "    icu_beds_used_7_day_avg NUMERIC,\n",
                "    inpatient_beds_used_covid_7_day_avg NUMERIC,\n",
                "    staffed_icu_adult_patients_confirmed_covid_7_day_avg NUMERIC,\n",
                "    PRIMARY KEY (hospital_pk, collection_week),\n",
                "    FOREIGN KEY (hospital_pk) REFERENCES hospital(hospital_pk)\n",
                ");"
            ],
            "metadata": {
                "azdata_cell_guid": "d3b17254-a5f4-4bc5-a949-eaef6979a734",
                "language": "sql"
            },
            "outputs": [],
            "execution_count": null
        }
    ]
}
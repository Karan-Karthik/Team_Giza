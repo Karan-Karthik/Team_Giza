{
    "metadata": {
        "kernelspec": {
            "name": "SQL",
            "display_name": "SQL",
            "language": "sql"
        },
        "language_info": {
            "name": "sql",
            "version": ""
        }
    },
    "nbformat_minor": 2,
    "nbformat": 4,
    "cells": [
        {
            "cell_type": "markdown",
            "source": [
                "Hospital quality Table"
            ],
            "metadata": {
                "azdata_cell_guid": "b93c1ee1-19a9-4c2f-89a2-6b3512ad79a2"
            },
            "attachments": {}
        },
        {
            "cell_type": "code",
            "source": [
                "CREATE TABLE hospital_quality(\r\n",
                "    PRIMARY KEY '(hospital_pk, rating_year)',\r\n",
                "    hospital_pk CHAR(6) REFERENCES hospital (hospital_pk),\r\n",
                "    facility_name CHAR(72),\r\n",
                "    type_of_hospital CHAR(36),\r\n",
                "    type_of_ownership CHAR(43),\r\n",
                "    emergency_services BOOLEAN DEFAULT NO,\r\n",
                "    overall_quality_rating CHAR(13),\r\n",
                "    rating_year INTEGER\r\n",
                ")"
            ],
            "metadata": {
                "azdata_cell_guid": "229f00ff-1b3d-4c69-a84d-4fb575da93da",
                "language": "sql"
            },
            "outputs": [],
            "execution_count": null
        },
        {
            "cell_type": "markdown",
            "source": [
                "Location Table"
            ],
            "metadata": {
                "azdata_cell_guid": "6c71a62c-c138-4a2b-9f39-c725afa9570e"
            },
            "attachments": {}
        },
        {
            "cell_type": "code",
            "source": [
                "CREATE TABLE location(\r\n",
                "    county_name CHAR PRIMARY KEY,\r\n",
                "    fips_code INTEGER REFERENCES hospitals (fips_code),\r\n",
                "    state CHAR(2) REFERENCES hospitals (state)\r\n",
                ")"
            ],
            "metadata": {
                "azdata_cell_guid": "faeca5c4-b0f4-4b3b-b2cf-676ab6822c2b",
                "language": "sql"
            },
            "outputs": [],
            "execution_count": null
        }
    ]
}

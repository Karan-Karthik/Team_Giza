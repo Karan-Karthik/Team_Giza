{
    "metadata": {
        "kernelspec": {
            "name": "SQL",
            "display_name": "SQL",
            "language": "sql"
        },
        "language_info": {
            "name": "sql",
            "version": ""
        }
    },
    "nbformat_minor": 2,
    "nbformat": 4,
    "cells": [
        {
            "cell_type": "markdown",
            "source": [
                "Hospital Quality Table\n",
                "\n",
                "- Primary Key\n",
                "    - Composite Key - uses both hospital\\_pk and rating\\_year to ensure that each hospital's data for a specific week is unique\n",
                "- Foreign Key\n",
                "    - References hospital table's primary key\n",
                "- Data Types\n",
                "    - Types and CHAR lengths are defined according to data documentation"
            ],
            "metadata": {
                "azdata_cell_guid": "b93c1ee1-19a9-4c2f-89a2-6b3512ad79a2"
            },
            "attachments": {}
        },
        {
            "cell_type": "code",
            "source": [
                "CREATE TABLE hospital_quality(\r\n",
                "    hospital_pk CHAR(6) REFERENCES hospital (hospital_pk),\r\n",
                "    facility_name CHAR(72),\r\n",
                "    type_of_hospital CHAR(36),\r\n",
                "    type_of_ownership CHAR(43),\r\n",
                "    emergency_services BOOLEAN DEFAULT FALSE,\r\n",
                "    overall_quality_rating CHAR(13),\r\n",
                "    rating_year INTEGER,\r\n",
                "    PRIMARY KEY (hospital_pk, rating_year)\r\n",
                ")"
            ],
            "metadata": {
                "azdata_cell_guid": "229f00ff-1b3d-4c69-a84d-4fb575da93da",
                "language": "sql"
            },
            "outputs": [
                {
                    "output_type": "error",
                    "ename": "",
                    "evalue": "relation \"hospital\" does not exist",
                    "traceback": []
                },
                {
                    "output_type": "display_data",
                    "data": {
                        "text/html": "Total execution time: 00:00:00.041"
                    },
                    "metadata": {}
                }
            ],
            "execution_count": 3
        },
        {
            "cell_type": "markdown",
            "source": [
                "Location Table\n",
                "\n",
                "- Primary Key\n",
                "    - Defined as county name to follow key principles\n",
                "- Foreign Key\n",
                "    - References hospital data table's fips\\_code and state"
            ],
            "metadata": {
                "azdata_cell_guid": "6c71a62c-c138-4a2b-9f39-c725afa9570e"
            },
            "attachments": {}
        },
        {
            "cell_type": "code",
            "source": [
                "CREATE TABLE location(\r\n",
                "    county_name CHAR PRIMARY KEY,\r\n",
                "    fips_code INTEGER REFERENCES hospitals (fips_code),\r\n",
                "    state CHAR(2) REFERENCES hospitals (state)\r\n",
                ")"
            ],
            "metadata": {
                "azdata_cell_guid": "faeca5c4-b0f4-4b3b-b2cf-676ab6822c2b",
                "language": "sql"
            },
            "outputs": [
                {
                    "output_type": "error",
                    "ename": "",
                    "evalue": "relation \"hospitals\" does not exist",
                    "traceback": []
                },
                {
                    "output_type": "display_data",
                    "data": {
                        "text/html": "Total execution time: 00:00:00.038"
                    },
                    "metadata": {}
                }
            ],
            "execution_count": 4
        }
    ]
}
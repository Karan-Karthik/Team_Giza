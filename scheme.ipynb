{
    "metadata": {
        "kernelspec": {
            "name": "SQL",
            "display_name": "SQL",
            "language": "sql"
        },
        "language_info": {
            "name": "sql",
            "version": ""
        }
    },
    "nbformat_minor": 2,
    "nbformat": 4,
    "cells": [
        {
            "cell_type": "code",
            "source": [
                "CREATE TABLE Hospital (\n",
                "    hospital_pk CHAR(6) PRIMARY KEY,\n",
                "    hospital_name TEXT,\n",
                "    address TEXT,\n",
                "    city TEXT,\n",
                "    state CHAR(2),\n",
                "    zip TEXT,\n",
                "    fips_code CHAR(5)\n",
                ");\n",
                "\n",
                "\n",
                "CREATE TABLE weekly_hospital_stats (\n",
                "    hospital_pk CHAR(6),\n",
                "    collection_week TIMESTAMP,\n",
                "    all_adult_hospital_beds_7_day_avg NUMERIC,\n",
                "    all_pediatric_inpatient_beds_7_day_avg NUMERIC,\n",
                "    all_adult_hospital_inpatient_bed_occupied_7_day_avg NUMERIC,\n",
                "    all_pediatric_inpatient_bed_occupied_7_day_avg NUMERIC,\n",
                "    total_icu_beds_7_day_avg NUMERIC,\n",
                "    icu_beds_used_7_day_avg NUMERIC,\n",
                "    inpatient_beds_used_covid_7_day_avg NUMERIC,\n",
                "    staffed_icu_adult_patients_confirmed_covid_7_day_avg NUMERIC,\n",
                "    PRIMARY KEY (hospital_pk, collection_week),\n",
                "    FOREIGN KEY (hospital_pk) REFERENCES Hospital(hospital_pk)\n",
                ");\n",
                "\n",
                "\n",
                "CREATE TABLE hospital_quality(\n",
                "    hospital_pk CHAR(6) REFERENCES hospital (hospital_pk),\n",
                "    facility_name TEXT,\n",
                "    type_of_hospital CHAR(36),\n",
                "    type_of_ownership CHAR(43),\n",
                "    emergency_services BOOLEAN DEFAULT FALSE,\n",
                "    overall_quality_rating CHAR(13),\n",
                "    rating_year INTEGER,\n",
                "    PRIMARY KEY (hospital_pk, rating_year)\n",
                ");"
            ],
            "metadata": {
                "vscode": {
                    "languageId": "plaintext"
                },
                "azdata_cell_guid": "e7361467-9c26-4706-bc60-56c885c3803d",
                "language": "sql"
            },
            "outputs": [
                {
                    "output_type": "display_data",
                    "data": {
                        "text/html": "CREATE TABLE"
                    },
                    "metadata": {}
                },
                {
                    "output_type": "display_data",
                    "data": {
                        "text/html": "CREATE TABLE"
                    },
                    "metadata": {}
                },
                {
                    "output_type": "display_data",
                    "data": {
                        "text/html": "CREATE TABLE"
                    },
                    "metadata": {}
                },
                {
                    "output_type": "display_data",
                    "data": {
                        "text/html": "Total execution time: 00:00:00.107"
                    },
                    "metadata": {}
                }
            ],
            "execution_count": 6
        },
        {
            "cell_type": "code",
            "source": [
                "-- if you want to drop these\n",
                "\n",
                "DROP TABLE hospital CASCADE;\n",
                "DROP TABLE weekly_hospital_stats CASCADE;\n",
                "drop table hospital_quality CASCADE;"
            ],
            "metadata": {
                "vscode": {
                    "languageId": "plaintext"
                },
                "azdata_cell_guid": "fcac8f9d-47b9-47aa-8267-e6f60cc063f2",
                "language": "sql"
            },
            "outputs": [
                {
                    "output_type": "display_data",
                    "data": {
                        "text/html": "NOTICE: drop cascades to 2 other objects"
                    },
                    "metadata": {}
                },
                {
                    "output_type": "display_data",
                    "data": {
                        "text/html": "DROP TABLE"
                    },
                    "metadata": {}
                },
                {
                    "output_type": "display_data",
                    "data": {
                        "text/html": "DROP TABLE"
                    },
                    "metadata": {}
                },
                {
                    "output_type": "display_data",
                    "data": {
                        "text/html": "DROP TABLE"
                    },
                    "metadata": {}
                },
                {
                    "output_type": "display_data",
                    "data": {
                        "text/html": "Total execution time: 00:00:00.126"
                    },
                    "metadata": {}
                }
            ],
            "execution_count": 5
        }
    ]
}